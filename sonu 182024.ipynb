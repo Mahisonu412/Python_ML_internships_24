{
 "cells": [
  {
   "cell_type": "code",
   "execution_count": 1,
   "id": "50b680cf",
   "metadata": {},
   "outputs": [],
   "source": [
    "import numpy as np"
   ]
  },
  {
   "cell_type": "code",
   "execution_count": 2,
   "id": "c8f35f68",
   "metadata": {},
   "outputs": [],
   "source": [
    "arr = np.array([1,2,3,4,5])"
   ]
  },
  {
   "cell_type": "code",
   "execution_count": 3,
   "id": "b79a6f17",
   "metadata": {},
   "outputs": [
    {
     "data": {
      "text/plain": [
       "array([1, 2, 3, 4, 5])"
      ]
     },
     "execution_count": 3,
     "metadata": {},
     "output_type": "execute_result"
    }
   ],
   "source": [
    "arr"
   ]
  },
  {
   "cell_type": "code",
   "execution_count": 4,
   "id": "5b1da69e",
   "metadata": {},
   "outputs": [],
   "source": [
    "Z=np.zeros(5)"
   ]
  },
  {
   "cell_type": "code",
   "execution_count": 5,
   "id": "36ca7ad1",
   "metadata": {},
   "outputs": [
    {
     "data": {
      "text/plain": [
       "array([0., 0., 0., 0., 0.])"
      ]
     },
     "execution_count": 5,
     "metadata": {},
     "output_type": "execute_result"
    }
   ],
   "source": [
    "Z"
   ]
  },
  {
   "cell_type": "code",
   "execution_count": 6,
   "id": "cce54444",
   "metadata": {},
   "outputs": [],
   "source": [
    "ar=np.arange(0,10,1)"
   ]
  },
  {
   "cell_type": "code",
   "execution_count": 7,
   "id": "7b775e31",
   "metadata": {},
   "outputs": [
    {
     "data": {
      "text/plain": [
       "array([0, 1, 2, 3, 4, 5, 6, 7, 8, 9])"
      ]
     },
     "execution_count": 7,
     "metadata": {},
     "output_type": "execute_result"
    }
   ],
   "source": [
    "ar"
   ]
  },
  {
   "cell_type": "code",
   "execution_count": 8,
   "id": "91244e3f",
   "metadata": {},
   "outputs": [],
   "source": [
    "ran=np.random.rand(4)"
   ]
  },
  {
   "cell_type": "code",
   "execution_count": 9,
   "id": "ffddd32e",
   "metadata": {},
   "outputs": [
    {
     "data": {
      "text/plain": [
       "array([0.73017115, 0.45442983, 0.72758064, 0.80742319])"
      ]
     },
     "execution_count": 9,
     "metadata": {},
     "output_type": "execute_result"
    }
   ],
   "source": [
    "ran"
   ]
  },
  {
   "cell_type": "code",
   "execution_count": 10,
   "id": "64055b0c",
   "metadata": {},
   "outputs": [],
   "source": [
    "ln=np.linspace(0,100,10)"
   ]
  },
  {
   "cell_type": "code",
   "execution_count": 11,
   "id": "e73e715c",
   "metadata": {},
   "outputs": [
    {
     "data": {
      "text/plain": [
       "array([  0.        ,  11.11111111,  22.22222222,  33.33333333,\n",
       "        44.44444444,  55.55555556,  66.66666667,  77.77777778,\n",
       "        88.88888889, 100.        ])"
      ]
     },
     "execution_count": 11,
     "metadata": {},
     "output_type": "execute_result"
    }
   ],
   "source": [
    "ln"
   ]
  },
  {
   "cell_type": "markdown",
   "id": "5c1365e8",
   "metadata": {},
   "source": [
    "2D array"
   ]
  },
  {
   "cell_type": "code",
   "execution_count": 13,
   "id": "2e278f0e",
   "metadata": {},
   "outputs": [],
   "source": [
    "ar2=np.array(([1,2,3],[4,5,6],[7,8,9]))"
   ]
  },
  {
   "cell_type": "markdown",
   "id": "fe79b380",
   "metadata": {},
   "source": [
    "ar2"
   ]
  },
  {
   "cell_type": "code",
   "execution_count": 14,
   "id": "1f8fffaa",
   "metadata": {},
   "outputs": [
    {
     "data": {
      "text/plain": [
       "array([[1, 2, 3],\n",
       "       [4, 5, 6],\n",
       "       [7, 8, 9]])"
      ]
     },
     "execution_count": 14,
     "metadata": {},
     "output_type": "execute_result"
    }
   ],
   "source": [
    "ar2"
   ]
  },
  {
   "cell_type": "code",
   "execution_count": 15,
   "id": "ca7d2cf7",
   "metadata": {},
   "outputs": [],
   "source": [
    "ar2=np.array([1,4,])"
   ]
  },
  {
   "cell_type": "code",
   "execution_count": 16,
   "id": "2d6b3009",
   "metadata": {},
   "outputs": [
    {
     "data": {
      "text/plain": [
       "array([1, 4])"
      ]
     },
     "execution_count": 16,
     "metadata": {},
     "output_type": "execute_result"
    }
   ],
   "source": [
    "ar2"
   ]
  },
  {
   "cell_type": "code",
   "execution_count": 17,
   "id": "5f6cc0e5",
   "metadata": {},
   "outputs": [],
   "source": [
    "o1=np.ones([5,5])"
   ]
  },
  {
   "cell_type": "code",
   "execution_count": 18,
   "id": "8581d8f0",
   "metadata": {},
   "outputs": [
    {
     "data": {
      "text/plain": [
       "array([[1., 1., 1., 1., 1.],\n",
       "       [1., 1., 1., 1., 1.],\n",
       "       [1., 1., 1., 1., 1.],\n",
       "       [1., 1., 1., 1., 1.],\n",
       "       [1., 1., 1., 1., 1.]])"
      ]
     },
     "execution_count": 18,
     "metadata": {},
     "output_type": "execute_result"
    }
   ],
   "source": [
    "o1"
   ]
  },
  {
   "cell_type": "code",
   "execution_count": 19,
   "id": "d4df99b2",
   "metadata": {},
   "outputs": [],
   "source": [
    "I=np.eye(5)"
   ]
  },
  {
   "cell_type": "code",
   "execution_count": 20,
   "id": "87a9167b",
   "metadata": {},
   "outputs": [
    {
     "data": {
      "text/plain": [
       "array([[1., 0., 0., 0., 0.],\n",
       "       [0., 1., 0., 0., 0.],\n",
       "       [0., 0., 1., 0., 0.],\n",
       "       [0., 0., 0., 1., 0.],\n",
       "       [0., 0., 0., 0., 1.]])"
      ]
     },
     "execution_count": 20,
     "metadata": {},
     "output_type": "execute_result"
    }
   ],
   "source": [
    "I"
   ]
  },
  {
   "cell_type": "code",
   "execution_count": 21,
   "id": "16367fd4",
   "metadata": {},
   "outputs": [],
   "source": [
    "r1=np.random.rand(4,5)"
   ]
  },
  {
   "cell_type": "code",
   "execution_count": 22,
   "id": "9e3be2ba",
   "metadata": {},
   "outputs": [
    {
     "data": {
      "text/plain": [
       "array([[0.67636537, 0.25045139, 0.65126343, 0.67872052, 0.22517079],\n",
       "       [0.72934486, 0.03699009, 0.98904455, 0.65570231, 0.93495397],\n",
       "       [0.58735113, 0.09786796, 0.81886798, 0.48680171, 0.67666477],\n",
       "       [0.69012386, 0.21976589, 0.04671774, 0.18946409, 0.89841733]])"
      ]
     },
     "execution_count": 22,
     "metadata": {},
     "output_type": "execute_result"
    }
   ],
   "source": [
    "r1"
   ]
  },
  {
   "cell_type": "code",
   "execution_count": 23,
   "id": "3201686c",
   "metadata": {},
   "outputs": [],
   "source": [
    "c1=np.random.rand(4,6)"
   ]
  },
  {
   "cell_type": "code",
   "execution_count": 24,
   "id": "2a69b46c",
   "metadata": {},
   "outputs": [
    {
     "data": {
      "text/plain": [
       "array([[0.8003867 , 0.44741723, 0.18738734, 0.95175418, 0.05726222,\n",
       "        0.65900861],\n",
       "       [0.1697371 , 0.91129198, 0.133562  , 0.47085158, 0.60535419,\n",
       "        0.57710708],\n",
       "       [0.81495421, 0.16005424, 0.74514774, 0.26909647, 0.49562299,\n",
       "        0.82494291],\n",
       "       [0.01581607, 0.81419215, 0.14162138, 0.25024791, 0.21648678,\n",
       "        0.4503524 ]])"
      ]
     },
     "execution_count": 24,
     "metadata": {},
     "output_type": "execute_result"
    }
   ],
   "source": [
    "c1"
   ]
  },
  {
   "cell_type": "code",
   "execution_count": 25,
   "id": "052eb03f",
   "metadata": {},
   "outputs": [
    {
     "data": {
      "text/plain": [
       "array([0, 1, 2, 3, 4, 5, 6, 7, 8, 9])"
      ]
     },
     "execution_count": 25,
     "metadata": {},
     "output_type": "execute_result"
    }
   ],
   "source": [
    "ar"
   ]
  },
  {
   "cell_type": "code",
   "execution_count": 26,
   "id": "52b60f02",
   "metadata": {},
   "outputs": [
    {
     "data": {
      "text/plain": [
       "array([1, 4])"
      ]
     },
     "execution_count": 26,
     "metadata": {},
     "output_type": "execute_result"
    }
   ],
   "source": [
    "ar2"
   ]
  },
  {
   "cell_type": "code",
   "execution_count": 27,
   "id": "7a9a0ef8",
   "metadata": {},
   "outputs": [
    {
     "name": "stdout",
     "output_type": "stream",
     "text": [
      "10\n"
     ]
    }
   ],
   "source": [
    "print(ar.size)"
   ]
  },
  {
   "cell_type": "code",
   "execution_count": 28,
   "id": "6f4d78ff",
   "metadata": {},
   "outputs": [
    {
     "name": "stdout",
     "output_type": "stream",
     "text": [
      "2\n"
     ]
    }
   ],
   "source": [
    "print(ar2.size)"
   ]
  },
  {
   "cell_type": "code",
   "execution_count": 29,
   "id": "38373131",
   "metadata": {},
   "outputs": [
    {
     "name": "stdout",
     "output_type": "stream",
     "text": [
      "(10,)\n"
     ]
    }
   ],
   "source": [
    "print(ar.shape)"
   ]
  },
  {
   "cell_type": "code",
   "execution_count": 30,
   "id": "2f6752bc",
   "metadata": {},
   "outputs": [
    {
     "name": "stdout",
     "output_type": "stream",
     "text": [
      "(2,)\n"
     ]
    }
   ],
   "source": [
    "print(ar2.shape)"
   ]
  },
  {
   "cell_type": "markdown",
   "id": "a8d26739",
   "metadata": {},
   "source": [
    "# Opertions in Array "
   ]
  },
  {
   "cell_type": "code",
   "execution_count": null,
   "id": "c4cec11f",
   "metadata": {},
   "outputs": [],
   "source": [
    "copy\n",
    "\n",
    "mark\n",
    "\n",
    "replace\n"
   ]
  },
  {
   "cell_type": "code",
   "execution_count": 34,
   "id": "c9e46e4e",
   "metadata": {},
   "outputs": [
    {
     "ename": "NameError",
     "evalue": "name 'ar3' is not defined",
     "output_type": "error",
     "traceback": [
      "\u001b[1;31m---------------------------------------------------------------------------\u001b[0m",
      "\u001b[1;31mNameError\u001b[0m                                 Traceback (most recent call last)",
      "Input \u001b[1;32mIn [34]\u001b[0m, in \u001b[0;36m<cell line: 1>\u001b[1;34m()\u001b[0m\n\u001b[1;32m----> 1\u001b[0m \u001b[43mar3\u001b[49m[\u001b[38;5;241m1\u001b[39m,\u001b[38;5;241m2\u001b[39m]\u001b[38;5;241m=\u001b[39m\u001b[38;5;241m12\u001b[39m\n\u001b[0;32m      2\u001b[0m ar3[\u001b[38;5;241m0\u001b[39m,\u001b[38;5;241m1\u001b[39m]\u001b[38;5;241m=\u001b[39m\u001b[38;5;241m15\u001b[39m\n",
      "\u001b[1;31mNameError\u001b[0m: name 'ar3' is not defined"
     ]
    }
   ],
   "source": [
    "ar3[1,2]=12\n",
    "ar3[0,1]=15"
   ]
  },
  {
   "cell_type": "code",
   "execution_count": 35,
   "id": "db431d32",
   "metadata": {},
   "outputs": [
    {
     "ename": "NameError",
     "evalue": "name 'ar3' is not defined",
     "output_type": "error",
     "traceback": [
      "\u001b[1;31m---------------------------------------------------------------------------\u001b[0m",
      "\u001b[1;31mNameError\u001b[0m                                 Traceback (most recent call last)",
      "Input \u001b[1;32mIn [35]\u001b[0m, in \u001b[0;36m<cell line: 1>\u001b[1;34m()\u001b[0m\n\u001b[1;32m----> 1\u001b[0m \u001b[43mar3\u001b[49m[\u001b[38;5;241m1\u001b[39m,\u001b[38;5;241m2\u001b[39m]\u001b[38;5;241m=\u001b[39m\u001b[38;5;241m12\u001b[39m\n\u001b[0;32m      2\u001b[0m ar3[\u001b[38;5;241m0\u001b[39m,\u001b[38;5;241m1\u001b[39m]\u001b[38;5;241m=\u001b[39m\u001b[38;5;241m15\u001b[39m\n",
      "\u001b[1;31mNameError\u001b[0m: name 'ar3' is not defined"
     ]
    }
   ],
   "source": [
    "ar3[1,2]=12\n",
    "ar3[0,1]=15"
   ]
  },
  {
   "cell_type": "code",
   "execution_count": 36,
   "id": "a1002f78",
   "metadata": {},
   "outputs": [
    {
     "ename": "NameError",
     "evalue": "name 'ar3' is not defined",
     "output_type": "error",
     "traceback": [
      "\u001b[1;31m---------------------------------------------------------------------------\u001b[0m",
      "\u001b[1;31mNameError\u001b[0m                                 Traceback (most recent call last)",
      "Input \u001b[1;32mIn [36]\u001b[0m, in \u001b[0;36m<cell line: 1>\u001b[1;34m()\u001b[0m\n\u001b[1;32m----> 1\u001b[0m ar3\u001b[38;5;241m=\u001b[39mnp\u001b[38;5;241m.\u001b[39msort(\u001b[43mar3\u001b[49m,axis\u001b[38;5;241m=\u001b[39m\u001b[38;5;241m0\u001b[39m)\n",
      "\u001b[1;31mNameError\u001b[0m: name 'ar3' is not defined"
     ]
    }
   ],
   "source": [
    "ar3=np.sort(ar3,axis=0)"
   ]
  },
  {
   "cell_type": "code",
   "execution_count": 37,
   "id": "76858cc2",
   "metadata": {},
   "outputs": [],
   "source": [
    "ar3=np.copy(ar2)"
   ]
  },
  {
   "cell_type": "code",
   "execution_count": 38,
   "id": "ae1ff181",
   "metadata": {},
   "outputs": [
    {
     "data": {
      "text/plain": [
       "array([1, 4])"
      ]
     },
     "execution_count": 38,
     "metadata": {},
     "output_type": "execute_result"
    }
   ],
   "source": [
    "ar3"
   ]
  },
  {
   "cell_type": "code",
   "execution_count": 39,
   "id": "eeebadaa",
   "metadata": {},
   "outputs": [],
   "source": [
    "ar3=ar3.T"
   ]
  },
  {
   "cell_type": "code",
   "execution_count": 40,
   "id": "0f9817ad",
   "metadata": {},
   "outputs": [
    {
     "data": {
      "text/plain": [
       "array([1, 4])"
      ]
     },
     "execution_count": 40,
     "metadata": {},
     "output_type": "execute_result"
    }
   ],
   "source": [
    "ar3"
   ]
  },
  {
   "cell_type": "code",
   "execution_count": 41,
   "id": "e2a33096",
   "metadata": {},
   "outputs": [
    {
     "ename": "IndexError",
     "evalue": "too many indices for array: array is 1-dimensional, but 2 were indexed",
     "output_type": "error",
     "traceback": [
      "\u001b[1;31m---------------------------------------------------------------------------\u001b[0m",
      "\u001b[1;31mIndexError\u001b[0m                                Traceback (most recent call last)",
      "Input \u001b[1;32mIn [41]\u001b[0m, in \u001b[0;36m<cell line: 1>\u001b[1;34m()\u001b[0m\n\u001b[1;32m----> 1\u001b[0m ar3[\u001b[38;5;241m2\u001b[39m,\u001b[38;5;241m2\u001b[39m]\u001b[38;5;241m=\u001b[39m\u001b[38;5;241m10\u001b[39m\n",
      "\u001b[1;31mIndexError\u001b[0m: too many indices for array: array is 1-dimensional, but 2 were indexed"
     ]
    }
   ],
   "source": [
    "ar3[2,2]=10"
   ]
  },
  {
   "cell_type": "code",
   "execution_count": 42,
   "id": "3aabc4b3",
   "metadata": {},
   "outputs": [
    {
     "ename": "IndexError",
     "evalue": "too many indices for array: array is 1-dimensional, but 2 were indexed",
     "output_type": "error",
     "traceback": [
      "\u001b[1;31m---------------------------------------------------------------------------\u001b[0m",
      "\u001b[1;31mIndexError\u001b[0m                                Traceback (most recent call last)",
      "Input \u001b[1;32mIn [42]\u001b[0m, in \u001b[0;36m<cell line: 1>\u001b[1;34m()\u001b[0m\n\u001b[1;32m----> 1\u001b[0m ar3[\u001b[38;5;241m2\u001b[39m,\u001b[38;5;241m2\u001b[39m]\u001b[38;5;241m=\u001b[39m\u001b[38;5;241m10\u001b[39m\n",
      "\u001b[1;31mIndexError\u001b[0m: too many indices for array: array is 1-dimensional, but 2 were indexed"
     ]
    }
   ],
   "source": [
    "ar3[2,2]=10"
   ]
  },
  {
   "cell_type": "code",
   "execution_count": 43,
   "id": "202094cf",
   "metadata": {},
   "outputs": [
    {
     "ename": "IndexError",
     "evalue": "too many indices for array: array is 1-dimensional, but 2 were indexed",
     "output_type": "error",
     "traceback": [
      "\u001b[1;31m---------------------------------------------------------------------------\u001b[0m",
      "\u001b[1;31mIndexError\u001b[0m                                Traceback (most recent call last)",
      "Input \u001b[1;32mIn [43]\u001b[0m, in \u001b[0;36m<cell line: 1>\u001b[1;34m()\u001b[0m\n\u001b[1;32m----> 1\u001b[0m ar3[\u001b[38;5;241m1\u001b[39m,\u001b[38;5;241m2\u001b[39m]\u001b[38;5;241m=\u001b[39m\u001b[38;5;241m10\u001b[39m\n",
      "\u001b[1;31mIndexError\u001b[0m: too many indices for array: array is 1-dimensional, but 2 were indexed"
     ]
    }
   ],
   "source": [
    "ar3[1,2]=10"
   ]
  },
  {
   "cell_type": "code",
   "execution_count": null,
   "id": "e0e8e0c6",
   "metadata": {},
   "outputs": [],
   "source": []
  },
  {
   "cell_type": "code",
   "execution_count": 44,
   "id": "e17ba0af",
   "metadata": {},
   "outputs": [
    {
     "ename": "NameError",
     "evalue": "name 'arr3' is not defined",
     "output_type": "error",
     "traceback": [
      "\u001b[1;31m---------------------------------------------------------------------------\u001b[0m",
      "\u001b[1;31mNameError\u001b[0m                                 Traceback (most recent call last)",
      "Input \u001b[1;32mIn [44]\u001b[0m, in \u001b[0;36m<cell line: 1>\u001b[1;34m()\u001b[0m\n\u001b[1;32m----> 1\u001b[0m \u001b[43marr3\u001b[49m\n",
      "\u001b[1;31mNameError\u001b[0m: name 'arr3' is not defined"
     ]
    }
   ],
   "source": [
    "arr3"
   ]
  },
  {
   "cell_type": "code",
   "execution_count": 45,
   "id": "08f93c03",
   "metadata": {},
   "outputs": [],
   "source": [
    "ar4=np.random.rand(99)"
   ]
  },
  {
   "cell_type": "code",
   "execution_count": 46,
   "id": "368b847d",
   "metadata": {},
   "outputs": [
    {
     "data": {
      "text/plain": [
       "array([0.80192504, 0.65456343, 0.4934348 , 0.51858761, 0.12061012,\n",
       "       0.98323054, 0.69816096, 0.99163413, 0.96772216, 0.1767533 ,\n",
       "       0.36444512, 0.44029572, 0.66951018, 0.12850682, 0.46188652,\n",
       "       0.1021064 , 0.52170185, 0.96020789, 0.74258195, 0.68706533,\n",
       "       0.76904496, 0.90308098, 0.46480502, 0.66665215, 0.2744983 ,\n",
       "       0.58763044, 0.21989223, 0.17605535, 0.50680298, 0.20998502,\n",
       "       0.23091079, 0.4662965 , 0.06496061, 0.69678225, 0.09567678,\n",
       "       0.8058299 , 0.43480768, 0.62504088, 0.85199477, 0.80976498,\n",
       "       0.8646039 , 0.27482822, 0.15286172, 0.701307  , 0.34591384,\n",
       "       0.91937649, 0.22557462, 0.38803606, 0.21498946, 0.11986369,\n",
       "       0.29660352, 0.81770696, 0.75991941, 0.27184848, 0.99458662,\n",
       "       0.25051643, 0.19335626, 0.54301085, 0.53558486, 0.90735057,\n",
       "       0.0168451 , 0.93878615, 0.47401112, 0.0565462 , 0.8059905 ,\n",
       "       0.7489715 , 0.6796489 , 0.41759452, 0.43525291, 0.04436297,\n",
       "       0.26233691, 0.67153781, 0.33896158, 0.05338822, 0.3933566 ,\n",
       "       0.9812829 , 0.21048646, 0.48859781, 0.26919342, 0.36325519,\n",
       "       0.00626021, 0.36598729, 0.76957282, 0.58504677, 0.08792853,\n",
       "       0.34482484, 0.9303576 , 0.99657087, 0.96236306, 0.24329102,\n",
       "       0.17221764, 0.72122946, 0.92340055, 0.4069833 , 0.44583638,\n",
       "       0.81420803, 0.52100832, 0.56334494, 0.55149269])"
      ]
     },
     "execution_count": 46,
     "metadata": {},
     "output_type": "execute_result"
    }
   ],
   "source": [
    "ar4"
   ]
  },
  {
   "cell_type": "code",
   "execution_count": 47,
   "id": "8e0e75f6",
   "metadata": {},
   "outputs": [
    {
     "data": {
      "text/plain": [
       "99"
      ]
     },
     "execution_count": 47,
     "metadata": {},
     "output_type": "execute_result"
    }
   ],
   "source": [
    "ar4.size"
   ]
  },
  {
   "cell_type": "code",
   "execution_count": 48,
   "id": "2f094189",
   "metadata": {},
   "outputs": [],
   "source": [
    "ar4=ar4.reshape(11,9)"
   ]
  },
  {
   "cell_type": "code",
   "execution_count": 49,
   "id": "713527c3",
   "metadata": {},
   "outputs": [
    {
     "data": {
      "text/plain": [
       "(11, 9)"
      ]
     },
     "execution_count": 49,
     "metadata": {},
     "output_type": "execute_result"
    }
   ],
   "source": [
    "ar4.shape"
   ]
  },
  {
   "cell_type": "code",
   "execution_count": 51,
   "id": "af139a7c",
   "metadata": {},
   "outputs": [],
   "source": [
    "ar4=ar4"
   ]
  },
  {
   "cell_type": "code",
   "execution_count": 52,
   "id": "5d8d23ac",
   "metadata": {},
   "outputs": [
    {
     "data": {
      "text/plain": [
       "array([[0.80192504, 0.65456343, 0.4934348 , 0.51858761, 0.12061012,\n",
       "        0.98323054, 0.69816096, 0.99163413, 0.96772216],\n",
       "       [0.1767533 , 0.36444512, 0.44029572, 0.66951018, 0.12850682,\n",
       "        0.46188652, 0.1021064 , 0.52170185, 0.96020789],\n",
       "       [0.74258195, 0.68706533, 0.76904496, 0.90308098, 0.46480502,\n",
       "        0.66665215, 0.2744983 , 0.58763044, 0.21989223],\n",
       "       [0.17605535, 0.50680298, 0.20998502, 0.23091079, 0.4662965 ,\n",
       "        0.06496061, 0.69678225, 0.09567678, 0.8058299 ],\n",
       "       [0.43480768, 0.62504088, 0.85199477, 0.80976498, 0.8646039 ,\n",
       "        0.27482822, 0.15286172, 0.701307  , 0.34591384],\n",
       "       [0.91937649, 0.22557462, 0.38803606, 0.21498946, 0.11986369,\n",
       "        0.29660352, 0.81770696, 0.75991941, 0.27184848],\n",
       "       [0.99458662, 0.25051643, 0.19335626, 0.54301085, 0.53558486,\n",
       "        0.90735057, 0.0168451 , 0.93878615, 0.47401112],\n",
       "       [0.0565462 , 0.8059905 , 0.7489715 , 0.6796489 , 0.41759452,\n",
       "        0.43525291, 0.04436297, 0.26233691, 0.67153781],\n",
       "       [0.33896158, 0.05338822, 0.3933566 , 0.9812829 , 0.21048646,\n",
       "        0.48859781, 0.26919342, 0.36325519, 0.00626021],\n",
       "       [0.36598729, 0.76957282, 0.58504677, 0.08792853, 0.34482484,\n",
       "        0.9303576 , 0.99657087, 0.96236306, 0.24329102],\n",
       "       [0.17221764, 0.72122946, 0.92340055, 0.4069833 , 0.44583638,\n",
       "        0.81420803, 0.52100832, 0.56334494, 0.55149269]])"
      ]
     },
     "execution_count": 52,
     "metadata": {},
     "output_type": "execute_result"
    }
   ],
   "source": [
    "ar4"
   ]
  },
  {
   "cell_type": "code",
   "execution_count": 53,
   "id": "1f648f09",
   "metadata": {},
   "outputs": [
    {
     "data": {
      "text/plain": [
       "(11, 9)"
      ]
     },
     "execution_count": 53,
     "metadata": {},
     "output_type": "execute_result"
    }
   ],
   "source": [
    "ar4.shape"
   ]
  },
  {
   "cell_type": "code",
   "execution_count": 54,
   "id": "ab3c39b1",
   "metadata": {},
   "outputs": [
    {
     "data": {
      "text/plain": [
       "array([1, 4])"
      ]
     },
     "execution_count": 54,
     "metadata": {},
     "output_type": "execute_result"
    }
   ],
   "source": [
    "ar3"
   ]
  },
  {
   "cell_type": "code",
   "execution_count": 55,
   "id": "d437b4f1",
   "metadata": {},
   "outputs": [],
   "source": [
    "ar3=ar4.T"
   ]
  },
  {
   "cell_type": "code",
   "execution_count": 56,
   "id": "8ccf7526",
   "metadata": {},
   "outputs": [
    {
     "data": {
      "text/plain": [
       "array([[0.80192504, 0.1767533 , 0.74258195, 0.17605535, 0.43480768,\n",
       "        0.91937649, 0.99458662, 0.0565462 , 0.33896158, 0.36598729,\n",
       "        0.17221764],\n",
       "       [0.65456343, 0.36444512, 0.68706533, 0.50680298, 0.62504088,\n",
       "        0.22557462, 0.25051643, 0.8059905 , 0.05338822, 0.76957282,\n",
       "        0.72122946],\n",
       "       [0.4934348 , 0.44029572, 0.76904496, 0.20998502, 0.85199477,\n",
       "        0.38803606, 0.19335626, 0.7489715 , 0.3933566 , 0.58504677,\n",
       "        0.92340055],\n",
       "       [0.51858761, 0.66951018, 0.90308098, 0.23091079, 0.80976498,\n",
       "        0.21498946, 0.54301085, 0.6796489 , 0.9812829 , 0.08792853,\n",
       "        0.4069833 ],\n",
       "       [0.12061012, 0.12850682, 0.46480502, 0.4662965 , 0.8646039 ,\n",
       "        0.11986369, 0.53558486, 0.41759452, 0.21048646, 0.34482484,\n",
       "        0.44583638],\n",
       "       [0.98323054, 0.46188652, 0.66665215, 0.06496061, 0.27482822,\n",
       "        0.29660352, 0.90735057, 0.43525291, 0.48859781, 0.9303576 ,\n",
       "        0.81420803],\n",
       "       [0.69816096, 0.1021064 , 0.2744983 , 0.69678225, 0.15286172,\n",
       "        0.81770696, 0.0168451 , 0.04436297, 0.26919342, 0.99657087,\n",
       "        0.52100832],\n",
       "       [0.99163413, 0.52170185, 0.58763044, 0.09567678, 0.701307  ,\n",
       "        0.75991941, 0.93878615, 0.26233691, 0.36325519, 0.96236306,\n",
       "        0.56334494],\n",
       "       [0.96772216, 0.96020789, 0.21989223, 0.8058299 , 0.34591384,\n",
       "        0.27184848, 0.47401112, 0.67153781, 0.00626021, 0.24329102,\n",
       "        0.55149269]])"
      ]
     },
     "execution_count": 56,
     "metadata": {},
     "output_type": "execute_result"
    }
   ],
   "source": [
    "ar3"
   ]
  },
  {
   "cell_type": "code",
   "execution_count": 57,
   "id": "9198294d",
   "metadata": {},
   "outputs": [
    {
     "data": {
      "text/plain": [
       "array([0, 1, 2, 3, 4, 5, 6, 7, 8, 9])"
      ]
     },
     "execution_count": 57,
     "metadata": {},
     "output_type": "execute_result"
    }
   ],
   "source": [
    "ar"
   ]
  },
  {
   "cell_type": "code",
   "execution_count": 58,
   "id": "0870e622",
   "metadata": {},
   "outputs": [
    {
     "data": {
      "text/plain": [
       "array([ 0,  1,  2,  3,  4,  5,  6,  7,  8,  9, 10])"
      ]
     },
     "execution_count": 58,
     "metadata": {},
     "output_type": "execute_result"
    }
   ],
   "source": [
    "np.append(ar,10)"
   ]
  },
  {
   "cell_type": "code",
   "execution_count": 59,
   "id": "e630d3b5",
   "metadata": {},
   "outputs": [
    {
     "data": {
      "text/plain": [
       "array([0, 1, 2, 3, 4, 5, 6, 7, 8, 9])"
      ]
     },
     "execution_count": 59,
     "metadata": {},
     "output_type": "execute_result"
    }
   ],
   "source": [
    "ar"
   ]
  },
  {
   "cell_type": "code",
   "execution_count": 60,
   "id": "dce70000",
   "metadata": {},
   "outputs": [],
   "source": [
    "ar=np.append(ar,10)"
   ]
  },
  {
   "cell_type": "code",
   "execution_count": 61,
   "id": "6e07c771",
   "metadata": {},
   "outputs": [
    {
     "data": {
      "text/plain": [
       "array([ 0,  1,  2,  3,  4,  5,  6,  7,  8,  9, 10])"
      ]
     },
     "execution_count": 61,
     "metadata": {},
     "output_type": "execute_result"
    }
   ],
   "source": [
    "ar"
   ]
  },
  {
   "cell_type": "code",
   "execution_count": 62,
   "id": "f59581cd",
   "metadata": {},
   "outputs": [],
   "source": [
    "ar=np.delete(ar,6,axis=0)"
   ]
  },
  {
   "cell_type": "code",
   "execution_count": 63,
   "id": "f270c8ea",
   "metadata": {},
   "outputs": [
    {
     "data": {
      "text/plain": [
       "array([ 0,  1,  2,  3,  4,  5,  7,  8,  9, 10])"
      ]
     },
     "execution_count": 63,
     "metadata": {},
     "output_type": "execute_result"
    }
   ],
   "source": [
    "ar"
   ]
  },
  {
   "cell_type": "code",
   "execution_count": 65,
   "id": "3785f5f8",
   "metadata": {},
   "outputs": [
    {
     "data": {
      "text/plain": [
       "array([ 0,  1,  2,  3,  4,  5,  6,  6,  7,  8,  9, 10])"
      ]
     },
     "execution_count": 65,
     "metadata": {},
     "output_type": "execute_result"
    }
   ],
   "source": [
    "ar=np.insert(ar,6,6)\n",
    "ar"
   ]
  },
  {
   "cell_type": "code",
   "execution_count": 66,
   "id": "08296900",
   "metadata": {},
   "outputs": [
    {
     "data": {
      "text/plain": [
       "array([1, 4])"
      ]
     },
     "execution_count": 66,
     "metadata": {},
     "output_type": "execute_result"
    }
   ],
   "source": [
    "ar2"
   ]
  },
  {
   "cell_type": "code",
   "execution_count": 67,
   "id": "43699b0f",
   "metadata": {},
   "outputs": [
    {
     "data": {
      "text/plain": [
       "array([[0.80192504, 0.1767533 , 0.74258195, 0.17605535, 0.43480768,\n",
       "        0.91937649, 0.99458662, 0.0565462 , 0.33896158, 0.36598729,\n",
       "        0.17221764],\n",
       "       [0.65456343, 0.36444512, 0.68706533, 0.50680298, 0.62504088,\n",
       "        0.22557462, 0.25051643, 0.8059905 , 0.05338822, 0.76957282,\n",
       "        0.72122946],\n",
       "       [0.4934348 , 0.44029572, 0.76904496, 0.20998502, 0.85199477,\n",
       "        0.38803606, 0.19335626, 0.7489715 , 0.3933566 , 0.58504677,\n",
       "        0.92340055],\n",
       "       [0.51858761, 0.66951018, 0.90308098, 0.23091079, 0.80976498,\n",
       "        0.21498946, 0.54301085, 0.6796489 , 0.9812829 , 0.08792853,\n",
       "        0.4069833 ],\n",
       "       [0.12061012, 0.12850682, 0.46480502, 0.4662965 , 0.8646039 ,\n",
       "        0.11986369, 0.53558486, 0.41759452, 0.21048646, 0.34482484,\n",
       "        0.44583638],\n",
       "       [0.98323054, 0.46188652, 0.66665215, 0.06496061, 0.27482822,\n",
       "        0.29660352, 0.90735057, 0.43525291, 0.48859781, 0.9303576 ,\n",
       "        0.81420803],\n",
       "       [0.69816096, 0.1021064 , 0.2744983 , 0.69678225, 0.15286172,\n",
       "        0.81770696, 0.0168451 , 0.04436297, 0.26919342, 0.99657087,\n",
       "        0.52100832],\n",
       "       [0.99163413, 0.52170185, 0.58763044, 0.09567678, 0.701307  ,\n",
       "        0.75991941, 0.93878615, 0.26233691, 0.36325519, 0.96236306,\n",
       "        0.56334494],\n",
       "       [0.96772216, 0.96020789, 0.21989223, 0.8058299 , 0.34591384,\n",
       "        0.27184848, 0.47401112, 0.67153781, 0.00626021, 0.24329102,\n",
       "        0.55149269]])"
      ]
     },
     "execution_count": 67,
     "metadata": {},
     "output_type": "execute_result"
    }
   ],
   "source": [
    "ar3"
   ]
  },
  {
   "cell_type": "code",
   "execution_count": 69,
   "id": "0a96b54d",
   "metadata": {},
   "outputs": [
    {
     "ename": "SyntaxError",
     "evalue": "unmatched ')' (2690021779.py, line 1)",
     "output_type": "error",
     "traceback": [
      "\u001b[1;36m  Input \u001b[1;32mIn [69]\u001b[1;36m\u001b[0m\n\u001b[1;33m    ar4=np.concatenate((ar2,ar3),axis=0))\u001b[0m\n\u001b[1;37m                                        ^\u001b[0m\n\u001b[1;31mSyntaxError\u001b[0m\u001b[1;31m:\u001b[0m unmatched ')'\n"
     ]
    }
   ],
   "source": []
  },
  {
   "cell_type": "code",
   "execution_count": 70,
   "id": "a400a2a5",
   "metadata": {},
   "outputs": [
    {
     "ename": "ValueError",
     "evalue": "array split does not result in an equal division",
     "output_type": "error",
     "traceback": [
      "\u001b[1;31m---------------------------------------------------------------------------\u001b[0m",
      "\u001b[1;31mValueError\u001b[0m                                Traceback (most recent call last)",
      "Input \u001b[1;32mIn [70]\u001b[0m, in \u001b[0;36m<cell line: 1>\u001b[1;34m()\u001b[0m\n\u001b[1;32m----> 1\u001b[0m \u001b[43mnp\u001b[49m\u001b[38;5;241;43m.\u001b[39;49m\u001b[43msplit\u001b[49m\u001b[43m(\u001b[49m\u001b[43mar4\u001b[49m\u001b[43m,\u001b[49m\u001b[38;5;241;43m3\u001b[39;49m\u001b[43m)\u001b[49m\n",
      "File \u001b[1;32m<__array_function__ internals>:5\u001b[0m, in \u001b[0;36msplit\u001b[1;34m(*args, **kwargs)\u001b[0m\n",
      "File \u001b[1;32m~\\anaconda3\\lib\\site-packages\\numpy\\lib\\shape_base.py:872\u001b[0m, in \u001b[0;36msplit\u001b[1;34m(ary, indices_or_sections, axis)\u001b[0m\n\u001b[0;32m    870\u001b[0m     N \u001b[38;5;241m=\u001b[39m ary\u001b[38;5;241m.\u001b[39mshape[axis]\n\u001b[0;32m    871\u001b[0m     \u001b[38;5;28;01mif\u001b[39;00m N \u001b[38;5;241m%\u001b[39m sections:\n\u001b[1;32m--> 872\u001b[0m         \u001b[38;5;28;01mraise\u001b[39;00m \u001b[38;5;167;01mValueError\u001b[39;00m(\n\u001b[0;32m    873\u001b[0m             \u001b[38;5;124m'\u001b[39m\u001b[38;5;124marray split does not result in an equal division\u001b[39m\u001b[38;5;124m'\u001b[39m) \u001b[38;5;28;01mfrom\u001b[39;00m \u001b[38;5;28mNone\u001b[39m\n\u001b[0;32m    874\u001b[0m \u001b[38;5;28;01mreturn\u001b[39;00m array_split(ary, indices_or_sections, axis)\n",
      "\u001b[1;31mValueError\u001b[0m: array split does not result in an equal division"
     ]
    }
   ],
   "source": []
  },
  {
   "cell_type": "code",
   "execution_count": 71,
   "id": "58d519ed",
   "metadata": {},
   "outputs": [
    {
     "ename": "NameError",
     "evalue": "name 'ar6' is not defined",
     "output_type": "error",
     "traceback": [
      "\u001b[1;31m---------------------------------------------------------------------------\u001b[0m",
      "\u001b[1;31mNameError\u001b[0m                                 Traceback (most recent call last)",
      "Input \u001b[1;32mIn [71]\u001b[0m, in \u001b[0;36m<cell line: 1>\u001b[1;34m()\u001b[0m\n\u001b[1;32m----> 1\u001b[0m \u001b[43mar6\u001b[49m[\u001b[38;5;241m0\u001b[39m][\u001b[38;5;241m0\u001b[39m][\u001b[38;5;241m0\u001b[39m]\n",
      "\u001b[1;31mNameError\u001b[0m: name 'ar6' is not defined"
     ]
    }
   ],
   "source": []
  },
  {
   "cell_type": "code",
   "execution_count": 72,
   "id": "213eae00",
   "metadata": {},
   "outputs": [
    {
     "ename": "NameError",
     "evalue": "name 'ar1' is not defined",
     "output_type": "error",
     "traceback": [
      "\u001b[1;31m---------------------------------------------------------------------------\u001b[0m",
      "\u001b[1;31mNameError\u001b[0m                                 Traceback (most recent call last)",
      "Input \u001b[1;32mIn [72]\u001b[0m, in \u001b[0;36m<cell line: 1>\u001b[1;34m()\u001b[0m\n\u001b[1;32m----> 1\u001b[0m \u001b[43mar1\u001b[49m\n",
      "\u001b[1;31mNameError\u001b[0m: name 'ar1' is not defined"
     ]
    }
   ],
   "source": [
    "ar1"
   ]
  },
  {
   "cell_type": "code",
   "execution_count": 73,
   "id": "3629c18a",
   "metadata": {},
   "outputs": [
    {
     "ename": "NameError",
     "evalue": "name 'ar1' is not defined",
     "output_type": "error",
     "traceback": [
      "\u001b[1;31m---------------------------------------------------------------------------\u001b[0m",
      "\u001b[1;31mNameError\u001b[0m                                 Traceback (most recent call last)",
      "Input \u001b[1;32mIn [73]\u001b[0m, in \u001b[0;36m<cell line: 1>\u001b[1;34m()\u001b[0m\n\u001b[1;32m----> 1\u001b[0m \u001b[43mar1\u001b[49m\n",
      "\u001b[1;31mNameError\u001b[0m: name 'ar1' is not defined"
     ]
    }
   ],
   "source": [
    "ar1"
   ]
  },
  {
   "cell_type": "code",
   "execution_count": 74,
   "id": "1abf588b",
   "metadata": {},
   "outputs": [
    {
     "data": {
      "text/plain": [
       "array([1, 4])"
      ]
     },
     "execution_count": 74,
     "metadata": {},
     "output_type": "execute_result"
    }
   ],
   "source": [
    "ar2"
   ]
  },
  {
   "cell_type": "code",
   "execution_count": 75,
   "id": "3b5d8cd3",
   "metadata": {},
   "outputs": [
    {
     "data": {
      "text/plain": [
       "array([ 0,  1,  2,  3,  4,  5,  6,  6,  7,  8,  9, 10])"
      ]
     },
     "execution_count": 75,
     "metadata": {},
     "output_type": "execute_result"
    }
   ],
   "source": [
    "ar"
   ]
  },
  {
   "cell_type": "code",
   "execution_count": 80,
   "id": "d3558a0c",
   "metadata": {},
   "outputs": [
    {
     "data": {
      "text/plain": [
       "array([2, 5])"
      ]
     },
     "execution_count": 80,
     "metadata": {},
     "output_type": "execute_result"
    }
   ],
   "source": [
    "np.add(ar2,1)"
   ]
  },
  {
   "cell_type": "code",
   "execution_count": 83,
   "id": "eb8784db",
   "metadata": {},
   "outputs": [
    {
     "data": {
      "text/plain": [
       "array([1, 4])"
      ]
     },
     "execution_count": 83,
     "metadata": {},
     "output_type": "execute_result"
    }
   ],
   "source": [
    "ar2 "
   ]
  },
  {
   "cell_type": "code",
   "execution_count": 84,
   "id": "9b174eda",
   "metadata": {},
   "outputs": [
    {
     "data": {
      "text/plain": [
       "array([ 0,  1,  2,  3,  4,  5,  6,  6,  7,  8,  9, 10])"
      ]
     },
     "execution_count": 84,
     "metadata": {},
     "output_type": "execute_result"
    }
   ],
   "source": [
    "ar"
   ]
  },
  {
   "cell_type": "code",
   "execution_count": 91,
   "id": "af96c9bf",
   "metadata": {},
   "outputs": [
    {
     "data": {
      "text/plain": [
       "array([0, 3])"
      ]
     },
     "execution_count": 91,
     "metadata": {},
     "output_type": "execute_result"
    }
   ],
   "source": [
    "np.subtract(ar2,1)"
   ]
  },
  {
   "cell_type": "code",
   "execution_count": 92,
   "id": "7852f845",
   "metadata": {},
   "outputs": [
    {
     "data": {
      "text/plain": [
       "array([1., 4.])"
      ]
     },
     "execution_count": 92,
     "metadata": {},
     "output_type": "execute_result"
    }
   ],
   "source": [
    "np.ceil(ar2)"
   ]
  },
  {
   "cell_type": "code",
   "execution_count": 93,
   "id": "c4642434",
   "metadata": {},
   "outputs": [
    {
     "data": {
      "text/plain": [
       "array([1., 4.])"
      ]
     },
     "execution_count": 93,
     "metadata": {},
     "output_type": "execute_result"
    }
   ],
   "source": [
    "np.floor(ar2)"
   ]
  },
  {
   "cell_type": "code",
   "execution_count": 94,
   "id": "b073a0f2",
   "metadata": {},
   "outputs": [
    {
     "data": {
      "text/plain": [
       "array([1, 4])"
      ]
     },
     "execution_count": 94,
     "metadata": {},
     "output_type": "execute_result"
    }
   ],
   "source": [
    "np.round(ar2)"
   ]
  },
  {
   "cell_type": "markdown",
   "id": "7462a585",
   "metadata": {},
   "source": []
  },
  {
   "cell_type": "code",
   "execution_count": 95,
   "id": "7934f97e",
   "metadata": {},
   "outputs": [
    {
     "data": {
      "text/plain": [
       "2.5"
      ]
     },
     "execution_count": 95,
     "metadata": {},
     "output_type": "execute_result"
    }
   ],
   "source": [
    "np.mean(ar2)"
   ]
  },
  {
   "cell_type": "code",
   "execution_count": 97,
   "id": "feeece07",
   "metadata": {},
   "outputs": [
    {
     "data": {
      "text/plain": [
       "2.5"
      ]
     },
     "execution_count": 97,
     "metadata": {},
     "output_type": "execute_result"
    }
   ],
   "source": [
    "np.mean(ar2,axis=0)"
   ]
  },
  {
   "cell_type": "code",
   "execution_count": 99,
   "id": "1ae3838f",
   "metadata": {},
   "outputs": [
    {
     "data": {
      "text/plain": [
       "2.5"
      ]
     },
     "execution_count": 99,
     "metadata": {},
     "output_type": "execute_result"
    }
   ],
   "source": [
    "np.mean(ar2,axis=0)"
   ]
  },
  {
   "cell_type": "code",
   "execution_count": 100,
   "id": "0778ebc2",
   "metadata": {},
   "outputs": [
    {
     "data": {
      "text/plain": [
       "2.5"
      ]
     },
     "execution_count": 100,
     "metadata": {},
     "output_type": "execute_result"
    }
   ],
   "source": [
    "np.median(ar2)"
   ]
  },
  {
   "cell_type": "code",
   "execution_count": 101,
   "id": "8485db70",
   "metadata": {},
   "outputs": [
    {
     "data": {
      "text/plain": [
       "1"
      ]
     },
     "execution_count": 101,
     "metadata": {},
     "output_type": "execute_result"
    }
   ],
   "source": [
    "np.min(ar2)"
   ]
  },
  {
   "cell_type": "code",
   "execution_count": 102,
   "id": "4838cbed",
   "metadata": {},
   "outputs": [
    {
     "data": {
      "text/plain": [
       "4"
      ]
     },
     "execution_count": 102,
     "metadata": {},
     "output_type": "execute_result"
    }
   ],
   "source": [
    "np.max(ar2)"
   ]
  },
  {
   "cell_type": "code",
   "execution_count": 103,
   "id": "9e9caa13",
   "metadata": {},
   "outputs": [],
   "source": [
    "ar10=np.array([2,5,3,8,0,4,1,6,9])"
   ]
  },
  {
   "cell_type": "code",
   "execution_count": 104,
   "id": "ae2f62d0",
   "metadata": {},
   "outputs": [
    {
     "data": {
      "text/plain": [
       "array([2, 5, 3, 8, 0, 4, 1, 6, 9])"
      ]
     },
     "execution_count": 104,
     "metadata": {},
     "output_type": "execute_result"
    }
   ],
   "source": [
    "ar10"
   ]
  },
  {
   "cell_type": "code",
   "execution_count": 105,
   "id": "f53f4b30",
   "metadata": {},
   "outputs": [
    {
     "data": {
      "text/plain": [
       "8"
      ]
     },
     "execution_count": 105,
     "metadata": {},
     "output_type": "execute_result"
    }
   ],
   "source": [
    "np.argmax(ar10)"
   ]
  },
  {
   "cell_type": "code",
   "execution_count": 106,
   "id": "52cc573d",
   "metadata": {},
   "outputs": [
    {
     "data": {
      "text/plain": [
       "4"
      ]
     },
     "execution_count": 106,
     "metadata": {},
     "output_type": "execute_result"
    }
   ],
   "source": [
    "np.argmin(ar10)"
   ]
  },
  {
   "cell_type": "code",
   "execution_count": 107,
   "id": "168f3b5c",
   "metadata": {},
   "outputs": [
    {
     "data": {
      "text/plain": [
       "array([4, 6, 0, 2, 5, 1, 7, 3, 8], dtype=int64)"
      ]
     },
     "execution_count": 107,
     "metadata": {},
     "output_type": "execute_result"
    }
   ],
   "source": [
    "np.argsort(ar10)"
   ]
  },
  {
   "cell_type": "code",
   "execution_count": 108,
   "id": "4a4359a1",
   "metadata": {},
   "outputs": [
    {
     "data": {
      "text/plain": [
       "array([ 0.90929743, -0.95892427,  0.14112001,  0.98935825,  0.        ,\n",
       "       -0.7568025 ,  0.84147098, -0.2794155 ,  0.41211849])"
      ]
     },
     "execution_count": 108,
     "metadata": {},
     "output_type": "execute_result"
    }
   ],
   "source": [
    "np.sin(ar10)"
   ]
  },
  {
   "cell_type": "code",
   "execution_count": 109,
   "id": "a01f0fb0",
   "metadata": {},
   "outputs": [
    {
     "name": "stderr",
     "output_type": "stream",
     "text": [
      "C:\\Users\\student\\AppData\\Local\\Temp\\ipykernel_10460\\168028880.py:1: RuntimeWarning: divide by zero encountered in log\n",
      "  np.log(ar10)\n"
     ]
    },
    {
     "data": {
      "text/plain": [
       "array([0.69314718, 1.60943791, 1.09861229, 2.07944154,       -inf,\n",
       "       1.38629436, 0.        , 1.79175947, 2.19722458])"
      ]
     },
     "execution_count": 109,
     "metadata": {},
     "output_type": "execute_result"
    }
   ],
   "source": [
    "np.log(ar10)"
   ]
  },
  {
   "cell_type": "code",
   "execution_count": null,
   "id": "4399b150",
   "metadata": {},
   "outputs": [],
   "source": []
  }
 ],
 "metadata": {
  "kernelspec": {
   "display_name": "Python 3 (ipykernel)",
   "language": "python",
   "name": "python3"
  },
  "language_info": {
   "codemirror_mode": {
    "name": "ipython",
    "version": 3
   },
   "file_extension": ".py",
   "mimetype": "text/x-python",
   "name": "python",
   "nbconvert_exporter": "python",
   "pygments_lexer": "ipython3",
   "version": "3.9.12"
  }
 },
 "nbformat": 4,
 "nbformat_minor": 5
}
