{
 "cells": [
  {
   "cell_type": "code",
   "execution_count": 5,
   "id": "9250e9ed",
   "metadata": {},
   "outputs": [],
   "source": [
    "import numpy as np"
   ]
  },
  {
   "cell_type": "code",
   "execution_count": 6,
   "id": "13edc0f8",
   "metadata": {},
   "outputs": [
    {
     "name": "stdout",
     "output_type": "stream",
     "text": [
      "[86.2 86.8 87.8]\n"
     ]
    }
   ],
   "source": [
    "scores=np.array([[85,90,78],\n",
    "                [92,88,95],\n",
    "                [76,95,85],\n",
    "                [90,85,92],\n",
    "                [88,76,89]])\n",
    "mean_scores=np.mean(scores,axis=0)\n",
    "print(mean_scores)\n",
    "                   "
   ]
  },
  {
   "cell_type": "code",
   "execution_count": 7,
   "id": "33ec93ae",
   "metadata": {},
   "outputs": [
    {
     "name": "stdout",
     "output_type": "stream",
     "text": [
      "[88. 88. 89.]\n"
     ]
    }
   ],
   "source": [
    "scores=np.array([[85,90,78],\n",
    "                [92,88,95],\n",
    "                [76,95,85],\n",
    "                [90,85,92],\n",
    "                [88,76,89]])\n",
    "median_scores=np.median(scores,axis=0)\n",
    "print(median_scores)"
   ]
  },
  {
   "cell_type": "code",
   "execution_count": 8,
   "id": "bcb3c7df",
   "metadata": {},
   "outputs": [
    {
     "name": "stdout",
     "output_type": "stream",
     "text": [
      "[431 434 439]\n"
     ]
    }
   ],
   "source": [
    "scores=np.array([[85,90,78],\n",
    "                [92,88,95],\n",
    "                [76,95,85],\n",
    "                [90,85,92],\n",
    "                [88,76,89]])\n",
    "sum_scores=np.sum(scores,axis=0)\n",
    "print(sum_scores)"
   ]
  },
  {
   "cell_type": "code",
   "execution_count": 9,
   "id": "79957623",
   "metadata": {},
   "outputs": [
    {
     "name": "stdout",
     "output_type": "stream",
     "text": [
      "[76 76 78]\n"
     ]
    }
   ],
   "source": [
    "scores=np.array([[85,90,78],\n",
    "                [92,88,95],\n",
    "                [76,95,85],\n",
    "                [90,85,92],\n",
    "                [88,76,89]])\n",
    "min_scores=np.min(scores,axis=0)\n",
    "print(min_scores)"
   ]
  },
  {
   "cell_type": "code",
   "execution_count": 10,
   "id": "41511144",
   "metadata": {},
   "outputs": [
    {
     "name": "stdout",
     "output_type": "stream",
     "text": [
      "[92 95 95]\n"
     ]
    }
   ],
   "source": [
    "scores=np.array([[85,90,78],\n",
    "                [92,88,95],\n",
    "                [76,95,85],\n",
    "                [90,85,92],\n",
    "                [88,76,89]])\n",
    "max_scores=np.max(scores,axis=0)\n",
    "print(max_scores)"
   ]
  },
  {
   "cell_type": "code",
   "execution_count": 11,
   "id": "b4e6f64a",
   "metadata": {},
   "outputs": [
    {
     "name": "stdout",
     "output_type": "stream",
     "text": [
      "[[76 76 78]\n",
      " [85 85 85]\n",
      " [88 88 89]\n",
      " [90 90 92]\n",
      " [92 95 95]]\n"
     ]
    }
   ],
   "source": [
    "sorted_scores=np.sort(scores,axis=0)\n",
    "print(sorted_scores)"
   ]
  },
  {
   "cell_type": "code",
   "execution_count": 15,
   "id": "a94ef4d5",
   "metadata": {},
   "outputs": [
    {
     "data": {
      "text/plain": [
       "array([[85, 90, 78, 92, 88],\n",
       "       [95, 76, 95, 85, 90],\n",
       "       [85, 92, 88, 76, 89]])"
      ]
     },
     "execution_count": 15,
     "metadata": {},
     "output_type": "execute_result"
    }
   ],
   "source": [
    "scores.reshape(3,5)"
   ]
  },
  {
   "cell_type": "code",
   "execution_count": null,
   "id": "67924819",
   "metadata": {},
   "outputs": [],
   "source": []
  }
 ],
 "metadata": {
  "kernelspec": {
   "display_name": "Python 3 (ipykernel)",
   "language": "python",
   "name": "python3"
  },
  "language_info": {
   "codemirror_mode": {
    "name": "ipython",
    "version": 3
   },
   "file_extension": ".py",
   "mimetype": "text/x-python",
   "name": "python",
   "nbconvert_exporter": "python",
   "pygments_lexer": "ipython3",
   "version": "3.12.4"
  }
 },
 "nbformat": 4,
 "nbformat_minor": 5
}
