{
 "cells": [
  {
   "cell_type": "code",
   "execution_count": 2,
   "id": "4abf70dc",
   "metadata": {},
   "outputs": [
    {
     "data": {
      "text/plain": [
       "4"
      ]
     },
     "execution_count": 2,
     "metadata": {},
     "output_type": "execute_result"
    }
   ],
   "source": [
    "L=[1,2,3,4,5]\n",
    "L[3]"
   ]
  },
  {
   "cell_type": "code",
   "execution_count": 10,
   "id": "45bd140d",
   "metadata": {},
   "outputs": [
    {
     "name": "stdout",
     "output_type": "stream",
     "text": [
      "hello world\n",
      "4\n",
      "invalid index\n",
      "end of line\n"
     ]
    }
   ],
   "source": [
    "print(\"hello world\")\n",
    "L\n",
    "\n",
    "print(L[3])\n",
    "try:\n",
    "  print(l[4])\n",
    "except:\n",
    "    print(\"invalid index\")\n",
    "\n",
    "print(\"end of line\")"
   ]
  },
  {
   "cell_type": "code",
   "execution_count": 9,
   "id": "fd44f327",
   "metadata": {},
   "outputs": [
    {
     "name": "stdout",
     "output_type": "stream",
     "text": [
      "B cannot be zero\n",
      "code executed successfully\n"
     ]
    }
   ],
   "source": [
    "a=10\n",
    "b=0\n",
    "\n",
    "try:\n",
    "    print(a/b)\n",
    "except:\n",
    "    print(\"B cannot be zero\")\n",
    "finally:\n",
    "    print(\"code executed successfully\")"
   ]
  },
  {
   "cell_type": "code",
   "execution_count": 11,
   "id": "2d26fa56",
   "metadata": {},
   "outputs": [
    {
     "name": "stdout",
     "output_type": "stream",
     "text": [
      "B cannot be zero\n",
      "code executed successfully\n"
     ]
    }
   ],
   "source": [
    "a=10\n",
    "b=0\n",
    "\n",
    "try:\n",
    "    print(a/b)\n",
    "    l[8]\n",
    "except ZeroDivisionError:\n",
    "    print(\"B cannot be zero\")\n",
    "finally:\n",
    "    print(\"code executed successfully\")"
   ]
  },
  {
   "cell_type": "code",
   "execution_count": 13,
   "id": "818fe68e",
   "metadata": {},
   "outputs": [
    {
     "name": "stdout",
     "output_type": "stream",
     "text": [
      "2.0\n",
      "code executed successfully\n"
     ]
    },
    {
     "ename": "IndexError",
     "evalue": "list index out of range",
     "output_type": "error",
     "traceback": [
      "\u001b[1;31m---------------------------------------------------------------------------\u001b[0m",
      "\u001b[1;31mIndexError\u001b[0m                                Traceback (most recent call last)",
      "Input \u001b[1;32mIn [13]\u001b[0m, in \u001b[0;36m<cell line: 4>\u001b[1;34m()\u001b[0m\n\u001b[0;32m      4\u001b[0m \u001b[38;5;28;01mtry\u001b[39;00m:\n\u001b[0;32m      5\u001b[0m     \u001b[38;5;28mprint\u001b[39m(a\u001b[38;5;241m/\u001b[39mb)\n\u001b[1;32m----> 6\u001b[0m     \u001b[43mL\u001b[49m\u001b[43m[\u001b[49m\u001b[38;5;241;43m8\u001b[39;49m\u001b[43m]\u001b[49m\n\u001b[0;32m      7\u001b[0m \u001b[38;5;28;01mexcept\u001b[39;00m \u001b[38;5;167;01mZeroDivisionError\u001b[39;00m:\n\u001b[0;32m      8\u001b[0m     \u001b[38;5;28mprint\u001b[39m(\u001b[38;5;124m\"\u001b[39m\u001b[38;5;124mB cannot be zero\u001b[39m\u001b[38;5;124m\"\u001b[39m)\n",
      "\u001b[1;31mIndexError\u001b[0m: list index out of range"
     ]
    }
   ],
   "source": [
    "a=10\n",
    "b=5\n",
    "\n",
    "try:\n",
    "    print(a/b)\n",
    "    L[8]\n",
    "except ZeroDivisionError:\n",
    "    print(\"B cannot be zero\")\n",
    "finally:\n",
    "    print(\"code executed successfully\")"
   ]
  },
  {
   "cell_type": "code",
   "execution_count": 15,
   "id": "a0918f9a",
   "metadata": {},
   "outputs": [
    {
     "name": "stdout",
     "output_type": "stream",
     "text": [
      "2.0\n",
      "list index out of range\n",
      "code executed successfully\n"
     ]
    }
   ],
   "source": [
    "a=10\n",
    "b=5\n",
    "\n",
    "try:\n",
    "    print(a/b)\n",
    "    L[8]\n",
    "except Exception as e:\n",
    "    print(e)\n",
    "    \n",
    "finally:\n",
    "    print(\"code executed successfully\")"
   ]
  },
  {
   "cell_type": "code",
   "execution_count": null,
   "id": "99f62fd2",
   "metadata": {},
   "outputs": [],
   "source": [
    "a=10\n",
    "b=0\n",
    "\n",
    "try:\n",
    "    print(a/b)\n",
    "    L[8]\n",
    "except ZeroDivisionError:\n",
    "    print(\"B cannot be zero\")\n",
    "    \n",
    "finally:\n",
    "    print(\"code executed successfully\")"
   ]
  },
  {
   "cell_type": "code",
   "execution_count": null,
   "id": "6cfb0df0",
   "metadata": {},
   "outputs": [],
   "source": []
  }
 ],
 "metadata": {
  "kernelspec": {
   "display_name": "Python 3 (ipykernel)",
   "language": "python",
   "name": "python3"
  },
  "language_info": {
   "codemirror_mode": {
    "name": "ipython",
    "version": 3
   },
   "file_extension": ".py",
   "mimetype": "text/x-python",
   "name": "python",
   "nbconvert_exporter": "python",
   "pygments_lexer": "ipython3",
   "version": "3.9.12"
  }
 },
 "nbformat": 4,
 "nbformat_minor": 5
}
