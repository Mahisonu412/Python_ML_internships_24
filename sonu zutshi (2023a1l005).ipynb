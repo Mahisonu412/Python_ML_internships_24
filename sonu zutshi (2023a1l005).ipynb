{
 "cells": [
  {
   "cell_type": "code",
   "execution_count": null,
   "id": "a967c684",
   "metadata": {
    "scrolled": true
   },
   "outputs": [],
   "source": [
    "n=5\n",
    " for i in range(1,n+1):\n",
    "        print('' * (n-i) + '*' * i)\n",
    "        \n",
    "\n"
   ]
  },
  {
   "cell_type": "code",
   "execution_count": null,
   "id": "ac0b360f",
   "metadata": {},
   "outputs": [],
   "source": [
    "\n",
    "        \n"
   ]
  },
  {
   "cell_type": "code",
   "execution_count": null,
   "id": "db120494",
   "metadata": {},
   "outputs": [],
   "source": []
  },
  {
   "cell_type": "code",
   "execution_count": 102,
   "id": "2a5bb523",
   "metadata": {},
   "outputs": [
    {
     "name": "stdout",
     "output_type": "stream",
     "text": [
      "Enter number of rows:5\n",
      "     *\n",
      "     **\n",
      "     ***\n",
      "     ****\n",
      "     *****\n"
     ]
    }
   ],
   "source": [
    "def star_pattern3(n):\n",
    "    \n",
    "    spaces = n\n",
    "    for i in range(1, n + 1):\n",
    "\n",
    "        \n",
    "\n",
    "        for j in range(1, n + 1):\n",
    "            \n",
    "            print(\" \", end=\"\")\n",
    "        \n",
    "\n",
    "        for k in range(1, i + 1):\n",
    "        \n",
    "            print(\"*\", end=\"\")\n",
    "\n",
    "        \n",
    "        print()\n",
    "        \n",
    "        \n",
    "\n",
    "\n",
    "n = int(input(\"Enter number of rows:\"))\n",
    "star_pattern3(n)\n"
   ]
  },
  {
   "cell_type": "code",
   "execution_count": null,
   "id": "1c3fd45f",
   "metadata": {},
   "outputs": [],
   "source": []
  },
  {
   "cell_type": "code",
   "execution_count": 105,
   "id": "7f11bb31",
   "metadata": {},
   "outputs": [
    {
     "ename": "IndentationError",
     "evalue": "unexpected indent (4027107096.py, line 4)",
     "output_type": "error",
     "traceback": [
      "\u001b[1;36m  Input \u001b[1;32mIn [105]\u001b[1;36m\u001b[0m\n\u001b[1;33m    for i in range(1, n + 1):\u001b[0m\n\u001b[1;37m    ^\u001b[0m\n\u001b[1;31mIndentationError\u001b[0m\u001b[1;31m:\u001b[0m unexpected indent\n"
     ]
    }
   ],
   "source": [
    "n=5\n",
    "\n",
    " for i in range(1, n + 1):\n",
    "        \n",
    "        \n",
    "        print(' ' *  (n-i)  + '*' *i)\n"
   ]
  },
  {
   "cell_type": "code",
   "execution_count": null,
   "id": "1ccf9b17",
   "metadata": {},
   "outputs": [],
   "source": [
    "zzzzzz"
   ]
  }
 ],
 "metadata": {
  "kernelspec": {
   "display_name": "Python 3 (ipykernel)",
   "language": "python",
   "name": "python3"
  },
  "language_info": {
   "codemirror_mode": {
    "name": "ipython",
    "version": 3
   },
   "file_extension": ".py",
   "mimetype": "text/x-python",
   "name": "python",
   "nbconvert_exporter": "python",
   "pygments_lexer": "ipython3",
   "version": "3.9.12"
  }
 },
 "nbformat": 4,
 "nbformat_minor": 5
}
